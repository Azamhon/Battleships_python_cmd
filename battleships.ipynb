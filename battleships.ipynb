{
 "cells": [
  {
   "cell_type": "code",
   "execution_count": 1,
   "metadata": {},
   "outputs": [
    {
     "name": "stdout",
     "output_type": "stream",
     "text": [
      "Defaulting to user installation because normal site-packages is not writeable\n",
      "Collecting prettytable\n",
      "  Downloading prettytable-3.8.0-py3-none-any.whl (27 kB)\n",
      "Requirement already satisfied: wcwidth in /Users/azamhonagzamov/Library/Python/3.9/lib/python/site-packages (from prettytable) (0.2.6)\n",
      "Installing collected packages: prettytable\n",
      "Successfully installed prettytable-3.8.0\n",
      "\u001b[33mWARNING: You are using pip version 21.2.4; however, version 23.1.2 is available.\n",
      "You should consider upgrading via the '/Library/Developer/CommandLineTools/usr/bin/python3 -m pip install --upgrade pip' command.\u001b[0m\n",
      "Note: you may need to restart the kernel to use updated packages.\n"
     ]
    }
   ],
   "source": [
    "pip install prettytable"
   ]
  },
  {
   "cell_type": "code",
   "execution_count": 2,
   "metadata": {},
   "outputs": [
    {
     "name": "stdout",
     "output_type": "stream",
     "text": [
      "Defaulting to user installation because normal site-packages is not writeable\n",
      "Collecting colorama\n",
      "  Downloading colorama-0.4.6-py2.py3-none-any.whl (25 kB)\n",
      "Installing collected packages: colorama\n",
      "Successfully installed colorama-0.4.6\n",
      "\u001b[33mWARNING: You are using pip version 21.2.4; however, version 23.1.2 is available.\n",
      "You should consider upgrading via the '/Library/Developer/CommandLineTools/usr/bin/python3 -m pip install --upgrade pip' command.\u001b[0m\n",
      "Note: you may need to restart the kernel to use updated packages.\n"
     ]
    }
   ],
   "source": [
    "pip install colorama"
   ]
  },
  {
   "cell_type": "code",
   "execution_count": 3,
   "metadata": {},
   "outputs": [],
   "source": [
    "from prettytable import PrettyTable\n",
    "from colorama import Fore, Back, Style\n",
    "\n",
    "# table = PrettyTable()\n",
    "\n",
    "# table.field_names = ['0', '1', '2']\n",
    "# table.add_row([\"0\", \"0\", 0])\n",
    "# table.add_row([\"0\", \"0\", 0])\n",
    "# table.add_row([\"0\", \"0\", 0])\n",
    "# table.add_row([\"0\", \"0\", 0])\n",
    "# print(table)"
   ]
  },
  {
   "cell_type": "code",
   "execution_count": 4,
   "metadata": {},
   "outputs": [],
   "source": [
    "from IPython.display import clear_output\n",
    "import time\n",
    "\n",
    "# print('hello')\n",
    "# time.sleep(4)\n",
    "# clear_output(wait=False)"
   ]
  },
  {
   "cell_type": "code",
   "execution_count": 5,
   "metadata": {},
   "outputs": [],
   "source": [
    "\n",
    "# print(Fore.RED + 'some red text')\n",
    "# print(Back.GREEN + 'and with a green background')\n",
    "# print(Style.DIM + 'and in dim text')\n",
    "# print(Style.RESET_ALL)\n",
    "# print('back to normal now')"
   ]
  },
  {
   "cell_type": "code",
   "execution_count": 6,
   "metadata": {},
   "outputs": [],
   "source": [
    "# print('\\033[31m' + 'some red text')\n",
    "# print('\\033[39m')\n"
   ]
  },
  {
   "cell_type": "code",
   "execution_count": 7,
   "metadata": {},
   "outputs": [],
   "source": [
    "# import numpy as np\n",
    "# p1_ships = np.zeros((5, 5))\n",
    "# print(p1_ships)\n",
    "# print()\n",
    "# p1_ships[0:3,0:-1] = np.full(1,2)\n",
    "# print(p1_ships)\n",
    "\n",
    "# if 1 in p1_ships[0:3,1]:\n",
    "#     print('hello')"
   ]
  },
  {
   "cell_type": "code",
   "execution_count": 8,
   "metadata": {},
   "outputs": [],
   "source": [
    "# def table_print(table_name):\n",
    "#     table = PrettyTable()\n",
    "#     table.field_names = ['\\\\','a', 'b', 'c','d','e']\n",
    "\n",
    "#     for n,i in enumerate(table_name):\n",
    "#         line = [n+1]\n",
    "#         for k in i:\n",
    "#             if k == 0:\n",
    "#                 line.append(Back.GREEN +'o'+Style.RESET_ALL)\n",
    "#             elif k == 1:\n",
    "#                 line.append(Back.WHITE +'I'+Style.RESET_ALL)\n",
    "#             elif k == 2:\n",
    "#                 line.append(Back.BLUE +'X'+Style.RESET_ALL)\n",
    "#         table.add_row(line)\n",
    "#     print(table)\n",
    "\n",
    "# table_print(p1_ships)"
   ]
  },
  {
   "cell_type": "code",
   "execution_count": 9,
   "metadata": {},
   "outputs": [],
   "source": [
    "def print_own_table(table_name):\n",
    "    table = PrettyTable()\n",
    "    table.field_names = ['\\\\','a','b','c','d','e','f','g','h','i','j']\n",
    "\n",
    "    for n,i in enumerate(table_name):\n",
    "        line = [n+1]\n",
    "        for k in i:\n",
    "            if k['ship']== False and k['isReserved'] == False and k['isShot'] == False:\n",
    "                line.append(Back.CYAN +'o'+Style.RESET_ALL)\n",
    "            elif k['ship']== True and k['isReserved'] == True and k['isShot'] == False:\n",
    "                line.append(Back.WHITE +'I'+Style.RESET_ALL)\n",
    "            elif k['ship']== False and k['isReserved'] == True and k['isShot'] == False:\n",
    "                line.append(Back.YELLOW +'-'+Style.RESET_ALL)\n",
    "            elif k['ship']== True and k['isReserved'] == False and k['isShot'] == False:\n",
    "                line.append(Back.RED +'-'+Style.RESET_ALL)\n",
    "        table.add_row(line)\n",
    "    print(table)"
   ]
  },
  {
   "cell_type": "code",
   "execution_count": 10,
   "metadata": {},
   "outputs": [],
   "source": [
    "def is_valid_coord(coor):\n",
    "    if coor[0] not in 'abcdefghij':\n",
    "        return False\n",
    "    try:\n",
    "        n = int(coor[1:])\n",
    "        if n >= 0 and n <= 10:\n",
    "            return True\n",
    "        return False\n",
    "    except:\n",
    "        return False"
   ]
  },
  {
   "cell_type": "code",
   "execution_count": 11,
   "metadata": {},
   "outputs": [],
   "source": [
    "def get_input_placement(table,l):\n",
    "    # coordinate = a2\n",
    "    coords = input(f'Where do you want to place your {l+1} tile long ship? give me coords: ').split(' ')\n",
    "    if not is_valid_coord(coords[0]) or not is_valid_coord(coords[1]):\n",
    "        print('Inproper input. Try again!')\n",
    "        return get_input_placement(table,l)\n",
    "\n",
    "    columns = {'a':1,'b':2,'c':3,'d':4,'e':5,'f':6,'g':7,'h':8,'i':9,'j':10}\n",
    "\n",
    "    intVals = []\n",
    "    for i in coords:\n",
    "        intVals.append(columns[i[0]])\n",
    "        intVals.append(int(i[1:]))\n",
    "\n",
    "    if table[intVals[0]][intVals[1]]['isReserved'] == True or table[intVals[2]][intVals[3]]['isReserved'] == True:\n",
    "        print('Too close to other ship. Try again')\n",
    "        return get_input_placement(table,l)\n",
    "\n",
    "    if abs(intVals[0]-intVals[2])+abs(intVals[1]-intVals[3]) != l:\n",
    "        print('Incorrect length of the ship. Try again')\n",
    "        return get_input_placement(table,l)\n",
    "\n",
    "\n",
    "    return intVals"
   ]
  },
  {
   "cell_type": "code",
   "execution_count": 12,
   "metadata": {},
   "outputs": [],
   "source": [
    "# table = [[{'ship': False, 'isShot': False, 'isReserved': False, 'coord': {x,y}} for x in range(10)]for y in range(10)]\n",
    "# print_own_table(table)\n",
    "\n",
    "# coords = [2,1,2,3]\n",
    "\n",
    "# for n,i in enumerate(coords):\n",
    "#     coords[n] = i-1\n",
    "# for n,i in enumerate(table):\n",
    "#     for f,k in enumerate(i):\n",
    "#         if f >= coords[0]-1 and f<=coords[2]+1:\n",
    "#             if n >= coords[1]-1 and n<=coords[3]+1:\n",
    "#                 table[n][f]['isReserved'] = True\n",
    "#         if f >= coords[0] and f<=coords[2]:\n",
    "#             if n >= coords[1] and n<=coords[3]:\n",
    "#                 table[n][f]['ship'] = True\n",
    "#                 table[n][f]['isReserved'] = True\n",
    "# print_own_table(table)\n",
    "\n",
    "# get_input_placement(table,0)"
   ]
  },
  {
   "cell_type": "code",
   "execution_count": 13,
   "metadata": {},
   "outputs": [],
   "source": [
    "def placing_ships(shipset):\n",
    "    table = [[{'ship': False, 'isShot': False, 'isReserved': False} for x in range(10)]for y in range(10)]\n",
    "    print_own_table(table)\n",
    "    shipset_coords = []\n",
    "    for l,i in enumerate(shipset):\n",
    "        for k in range(i):\n",
    "            coords = get_input_placement(table,l) # a b c d\n",
    "            for n,i in enumerate(coords):\n",
    "                coords[n] = i-1\n",
    "            shipset_coords.append(coords)\n",
    "            for n,i in enumerate(table):\n",
    "                for f,k in enumerate(i):\n",
    "                    if f >= coords[0]-1 and f<=coords[2]+1:\n",
    "                        if n >= coords[1]-1 and n<=coords[3]+1:\n",
    "                            table[n][f]['isReserved'] = True\n",
    "                    if f >= coords[0] and f<=coords[2]:\n",
    "                        if n >= coords[1] and n<=coords[3]:\n",
    "                            table[n][f]['ship'] = True\n",
    "                            table[n][f]['isReserved'] = False\n",
    "            print_own_table(table)\n",
    "    return table,shipset_coords\n"
   ]
  },
  {
   "cell_type": "code",
   "execution_count": 14,
   "metadata": {},
   "outputs": [],
   "source": [
    "def print_enemy_table(table_name):\n",
    "    table = PrettyTable()\n",
    "    table.field_names = ['\\\\','a','b','c','d','e','f','g','h','i','j']\n",
    "\n",
    "    for n,i in enumerate(table_name):\n",
    "        line = [n+1]\n",
    "        for k in i:\n",
    "            if k['ship']== True and k['isReserved'] == False and k['isShot'] == True:\n",
    "                line.append(Back.RED +'X'+Style.RESET_ALL)\n",
    "            elif k['ship']== False and k['isShot'] == True:\n",
    "                line.append(Back.YELLOW +'X'+Style.RESET_ALL)\n",
    "            elif k['ship']== False and k['isShot'] == False:\n",
    "                line.append(Back.CYAN +'o'+Style.RESET_ALL)\n",
    "            elif k['ship']== True and k['isShot'] == False:\n",
    "                line.append(Back.CYAN +'o'+Style.RESET_ALL)\n",
    "        table.add_row(line)\n",
    "    print(table)\n",
    "\n"
   ]
  },
  {
   "cell_type": "code",
   "execution_count": 15,
   "metadata": {},
   "outputs": [],
   "source": [
    "def shooting(shooting_board, turn):\n",
    "    print(turn+'\\'s turn to shoot. Here is your enemy\\'s table:')\n",
    "    print_enemy_table(shooting_board)\n",
    "    coord = input('give me a coordinate where to shoot my general: ')\n",
    "    if not is_valid_coord(coord):\n",
    "        print('Inproper input. Try again!')\n",
    "        return shooting(shooting_board)\n",
    "    columns = {'a':1,'b':2,'c':3,'d':4,'e':5,'f':6,'g':7,'h':8,'i':9,'j':10}\n",
    "\n",
    "    intVals = [columns[coord[0]]-1,int(coord[1:])-1]\n",
    "\n",
    "    global p1_ships\n",
    "    global p2_ships\n",
    "\n",
    "    if turn == 'player1':\n",
    "        p2_ships[0][intVals[1]][intVals[0]]['isShot'] = True\n",
    "        if p2_ships[0][intVals[1]][intVals[0]]['ship'] == True:\n",
    "            print('Direct Hit My General!')\n",
    "    else:\n",
    "        p1_ships[0][intVals[1]][intVals[0]]['isShot'] = True\n",
    "        if p1_ships[0][intVals[1]][intVals[0]]['ship'] == True:\n",
    "            print('Direct Hit My General!')\n",
    "\n"
   ]
  },
  {
   "cell_type": "code",
   "execution_count": 16,
   "metadata": {},
   "outputs": [],
   "source": [
    "# coord = input('give me a coord where to shoot my general')\n",
    "# columns = {'a':1,'b':2,'c':3,'d':4,'e':5,'f':6,'g':7,'h':8,'i':9,'j':10}\n",
    "\n",
    "# intVals = [columns[coord[0]]-1,int(coord[1:])-1]\n",
    "# print(intVals[0])\n"
   ]
  },
  {
   "cell_type": "code",
   "execution_count": 17,
   "metadata": {},
   "outputs": [],
   "source": [
    "def is_over(boards):\n",
    "\n",
    "    for i in boards:\n",
    "        count = 0\n",
    "        for k in i:\n",
    "            for n in k:\n",
    "                if n['isShot'] == False and n['ship'] == True:\n",
    "                    count += 1\n",
    "        if count == 0:\n",
    "            return True\n",
    "    return False"
   ]
  },
  {
   "cell_type": "code",
   "execution_count": 18,
   "metadata": {},
   "outputs": [],
   "source": [
    "def clearing(t):\n",
    "    time.sleep(t)\n",
    "    clear_output(wait=False)"
   ]
  },
  {
   "cell_type": "code",
   "execution_count": 20,
   "metadata": {},
   "outputs": [
    {
     "name": "stdout",
     "output_type": "stream",
     "text": [
      "player2 has no more ships. Game is over!\n",
      "player1 Won!\n"
     ]
    }
   ],
   "source": [
    "def main():\n",
    "    print('Welcome to the game of battleships. \\nObjective of the game is to find the ships of an enemy and eleminate them all while your ships are safe. \\nThe one to take all enemy ships down wins the game. Ships cannot be placed too close to each other.')\n",
    "    shipset = [1,0,0,0]\n",
    "    global p1_ships\n",
    "    global p2_ships\n",
    "    print(\"First let player 1 to playce ships.\")\n",
    "    p1_ships = placing_ships(shipset)\n",
    "    clearing(4)\n",
    "    print(\"Now let player 2 to playce ships.\")\n",
    "    p2_ships = placing_ships(shipset)\n",
    "    clearing(4)\n",
    "    turn = 'player1'\n",
    "    print('Time to shoot!')\n",
    "    while True:\n",
    "        if turn == 'player1':\n",
    "            shooting(p2_ships[0], turn)\n",
    "            turn = 'player2'\n",
    "            clearing(4)\n",
    "        else:\n",
    "            shooting(p1_ships[0], turn)\n",
    "            turn = 'player1'\n",
    "            clearing(4)\n",
    "        if is_over([p1_ships[0],p2_ships[0]]):\n",
    "            break\n",
    "    print(turn, 'has no more ships. Game is over!')\n",
    "    if turn == 'player1':\n",
    "        print('player2 Won!')\n",
    "    else:\n",
    "        print('player1 Won!')\n",
    "main()"
   ]
  },
  {
   "cell_type": "code",
   "execution_count": null,
   "metadata": {},
   "outputs": [],
   "source": []
  }
 ],
 "metadata": {
  "kernelspec": {
   "display_name": "Python 3",
   "language": "python",
   "name": "python3"
  },
  "language_info": {
   "codemirror_mode": {
    "name": "ipython",
    "version": 3
   },
   "file_extension": ".py",
   "mimetype": "text/x-python",
   "name": "python",
   "nbconvert_exporter": "python",
   "pygments_lexer": "ipython3",
   "version": "3.9.6"
  },
  "orig_nbformat": 4
 },
 "nbformat": 4,
 "nbformat_minor": 2
}
